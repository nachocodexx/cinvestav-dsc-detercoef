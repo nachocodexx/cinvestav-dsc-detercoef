{
 "cells": [
  {
   "cell_type": "code",
   "execution_count": 3,
   "id": "considerable-fitting",
   "metadata": {},
   "outputs": [],
   "source": [
    "import numpy as np\n",
    "import pandas as pd\n",
    "import matplotlib.pyplot as plt\n",
    "from sklearn.linear_model import LinearRegression\n",
    "from sklearn.metrics import mean_squared_error,mean_absolute_error, r2_score\n",
    "import math\n",
    "lr = LinearRegression()"
   ]
  },
  {
   "cell_type": "markdown",
   "id": "statewide-overall",
   "metadata": {},
   "source": [
    "# Sintetico #1"
   ]
  },
  {
   "cell_type": "code",
   "execution_count": 4,
   "id": "proved-amendment",
   "metadata": {},
   "outputs": [
    {
     "data": {
      "text/html": [
       "<div>\n",
       "<style scoped>\n",
       "    .dataframe tbody tr th:only-of-type {\n",
       "        vertical-align: middle;\n",
       "    }\n",
       "\n",
       "    .dataframe tbody tr th {\n",
       "        vertical-align: top;\n",
       "    }\n",
       "\n",
       "    .dataframe thead th {\n",
       "        text-align: right;\n",
       "    }\n",
       "</style>\n",
       "<table border=\"1\" class=\"dataframe\">\n",
       "  <thead>\n",
       "    <tr style=\"text-align: right;\">\n",
       "      <th></th>\n",
       "      <th>x1</th>\n",
       "      <th>x2</th>\n",
       "      <th>target</th>\n",
       "    </tr>\n",
       "  </thead>\n",
       "  <tbody>\n",
       "    <tr>\n",
       "      <th>0</th>\n",
       "      <td>0.665117</td>\n",
       "      <td>0.619822</td>\n",
       "      <td>0</td>\n",
       "    </tr>\n",
       "    <tr>\n",
       "      <th>1</th>\n",
       "      <td>0.389321</td>\n",
       "      <td>0.341135</td>\n",
       "      <td>0</td>\n",
       "    </tr>\n",
       "    <tr>\n",
       "      <th>2</th>\n",
       "      <td>0.693654</td>\n",
       "      <td>0.622386</td>\n",
       "      <td>0</td>\n",
       "    </tr>\n",
       "  </tbody>\n",
       "</table>\n",
       "</div>"
      ],
      "text/plain": [
       "         x1        x2  target\n",
       "0  0.665117  0.619822       0\n",
       "1  0.389321  0.341135       0\n",
       "2  0.693654  0.622386       0"
      ]
     },
     "execution_count": 4,
     "metadata": {},
     "output_type": "execute_result"
    }
   ],
   "source": [
    "df1  = pd.read_csv(\"Sintetico.csv\",delimiter='\\t',header=None)\n",
    "df1.rename(columns={0:'x1',1:'x2',2:'target'},inplace=True)\n",
    "X = df1.iloc[:,0].to_numpy().reshape(-1,1)\n",
    "y = df1.iloc[:,1].to_numpy()\n",
    "df1.head(3)\n",
    "# y\n",
    "# X"
   ]
  },
  {
   "cell_type": "markdown",
   "id": "dirty-oxford",
   "metadata": {},
   "source": [
    "# Grafica #1"
   ]
  },
  {
   "cell_type": "code",
   "execution_count": 5,
   "id": "international-brain",
   "metadata": {},
   "outputs": [
    {
     "data": {
      "text/plain": [
       "<matplotlib.collections.PathCollection at 0x7f08cf1c7b80>"
      ]
     },
     "execution_count": 5,
     "metadata": {},
     "output_type": "execute_result"
    },
    {
     "data": {
      "image/png": "[encoded data removed]",
      "text/plain": [
       "<Figure size 432x288 with 1 Axes>"
      ]
     },
     "metadata": {
      "needs_background": "light"
     },
     "output_type": "display_data"
    }
   ],
   "source": [
    "plt.scatter(df1.x1,df1.x2,color=\"black\",s=100,alpha=0.9)"
   ]
  },
  {
   "cell_type": "markdown",
   "id": "married-atlantic",
   "metadata": {},
   "source": [
    "# Regresion lineal"
   ]
  },
  {
   "cell_type": "code",
   "execution_count": 6,
   "id": "described-transfer",
   "metadata": {},
   "outputs": [],
   "source": [
    "X_train = X[:50]\n",
    "X_test  = X[50:]\n",
    "y_train = y[:50]\n",
    "y_test  = y[50:]\n",
    "lr.fit(X_train,y_train)\n",
    "y_pred  = lr.predict(X_test) \n",
    "b1      = lr.coef_[0]"
   ]
  },
  {
   "cell_type": "markdown",
   "id": "acquired-priority",
   "metadata": {},
   "source": [
    "# Grafica #2"
   ]
  },
  {
   "cell_type": "code",
   "execution_count": 7,
   "id": "phantom-colony",
   "metadata": {},
   "outputs": [
    {
     "data": {
      "text/plain": [
       "[<matplotlib.lines.Line2D at 0x7f08cd0bfbb0>]"
      ]
     },
     "execution_count": 7,
     "metadata": {},
     "output_type": "execute_result"
    },
    {
     "data": {
      "image/png": "[encoded data removed]",
      "text/plain": [
       "<Figure size 432x288 with 1 Axes>"
      ]
     },
     "metadata": {
      "needs_background": "light"
     },
     "output_type": "display_data"
    }
   ],
   "source": [
    "plt.scatter(X_test,y_test,color=\"black\",s=100)\n",
    "plt.plot(X_test,y_pred,color=\"red\")"
   ]
  },
  {
   "cell_type": "markdown",
   "id": "sharp-reader",
   "metadata": {},
   "source": [
    "## Error absoluto medio"
   ]
  },
  {
   "cell_type": "code",
   "execution_count": 8,
   "id": "circular-sense",
   "metadata": {},
   "outputs": [
    {
     "name": "stdout",
     "output_type": "stream",
     "text": [
      "Mean absolute error: 0.08\n"
     ]
    }
   ],
   "source": [
    "print('Mean absolute error: %.2f'% float(mean_absolute_error(y_test, y_pred)))"
   ]
  },
  {
   "cell_type": "markdown",
   "id": "about-habitat",
   "metadata": {},
   "source": [
    "# Error cuadrado medio"
   ]
  },
  {
   "cell_type": "code",
   "execution_count": 359,
   "id": "rising-novel",
   "metadata": {},
   "outputs": [
    {
     "name": "stdout",
     "output_type": "stream",
     "text": [
      "Mean squared error: 0.01\n"
     ]
    }
   ],
   "source": [
    "MSE = mean_squared_error(y_test, y_pred)\n",
    "print('Mean squared error: %.2f'% MSE)"
   ]
  },
  {
   "cell_type": "markdown",
   "id": "ethical-canadian",
   "metadata": {},
   "source": [
    "# Raiz del error cuadrado medio  "
   ]
  },
  {
   "cell_type": "code",
   "execution_count": 360,
   "id": "unexpected-beads",
   "metadata": {},
   "outputs": [
    {
     "name": "stdout",
     "output_type": "stream",
     "text": [
      "Root Mean squared error: 0.10\n"
     ]
    }
   ],
   "source": [
    "print('Root Mean squared error: %.2f'% math.sqrt(MSE))"
   ]
  },
  {
   "cell_type": "markdown",
   "id": "assured-commission",
   "metadata": {},
   "source": [
    "# Coeficiento de determinacion"
   ]
  },
  {
   "cell_type": "code",
   "execution_count": 361,
   "id": "above-flash",
   "metadata": {},
   "outputs": [
    {
     "name": "stdout",
     "output_type": "stream",
     "text": [
      "Coefficient of determination: 41.27%\n"
     ]
    }
   ],
   "source": [
    "print('Coefficient of determination: %.2f'% float(r2_score(y_test,y_pred)*100 ) + \"%\")"
   ]
  },
  {
   "cell_type": "markdown",
   "id": "sudden-powell",
   "metadata": {},
   "source": [
    "# Grafica #3"
   ]
  },
  {
   "cell_type": "code",
   "execution_count": 362,
   "id": "leading-knitting",
   "metadata": {},
   "outputs": [
    {
     "data": {
      "text/plain": [
       "[<matplotlib.lines.Line2D at 0x7fa542466d68>]"
      ]
     },
     "execution_count": 362,
     "metadata": {},
     "output_type": "execute_result"
    },
    {
     "data": {
      "image/png": "[encoded data removed]",
      "text/plain": [
       "<Figure size 432x288 with 1 Axes>"
      ]
     },
     "metadata": {
      "needs_background": "light"
     },
     "output_type": "display_data"
    }
   ],
   "source": [
    "b0 = np.mean(y)-np.mean(X)*b1\n",
    "plt.scatter(X,y,color=\"black\")\n",
    "plt.plot(X,b0 + b1*X,color=\"red\")"
   ]
  },
  {
   "cell_type": "markdown",
   "id": "later-flashing",
   "metadata": {},
   "source": [
    "## Residuals"
   ]
  },
  {
   "cell_type": "code",
   "execution_count": 368,
   "id": "first-newton",
   "metadata": {},
   "outputs": [
    {
     "data": {
      "text/plain": [
       "<matplotlib.collections.PathCollection at 0x7fa540339a58>"
      ]
     },
     "execution_count": 368,
     "metadata": {},
     "output_type": "execute_result"
    },
    {
     "data": {
      "image/png": "[encoded data removed]",
      "text/plain": [
       "<Figure size 432x288 with 1 Axes>"
      ]
     },
     "metadata": {
      "needs_background": "light"
     },
     "output_type": "display_data"
    }
   ],
   "source": [
    "y_pred    = lr.predict(X)\n",
    "residuals = y-y_pred\n",
    "plt.scatter(X,residuals,color=\"black\")"
   ]
  },
  {
   "cell_type": "markdown",
   "id": "greater-princeton",
   "metadata": {},
   "source": [
    "# Sintetico 2"
   ]
  },
  {
   "cell_type": "code",
   "execution_count": 9,
   "id": "interstate-fellowship",
   "metadata": {},
   "outputs": [],
   "source": [
    "lr2 = LinearRegression()\n",
    "df2 = pd.read_csv(\"Sintetico2.csv\",delimiter=\"\\t\",header=None)\n",
    "df2.rename(columns={0:'x',1:'y'},inplace=True)\n",
    "df2.drop(columns=[2],inplace=True)\n",
    "X = df2['x'].to_numpy().reshape(-1,1)\n",
    "y = df2['y'].to_numpy().reshape(-1,1)"
   ]
  },
  {
   "cell_type": "markdown",
   "id": "conceptual-dublin",
   "metadata": {},
   "source": [
    "# Grafica #1"
   ]
  },
  {
   "cell_type": "code",
   "execution_count": 10,
   "id": "julian-writing",
   "metadata": {},
   "outputs": [
    {
     "data": {
      "text/plain": [
       "<matplotlib.collections.PathCollection at 0x7f08cd09dcd0>"
      ]
     },
     "execution_count": 10,
     "metadata": {},
     "output_type": "execute_result"
    },
    {
     "data": {
      "image/png": "[encoded data removed]",
      "text/plain": [
       "<Figure size 432x288 with 1 Axes>"
      ]
     },
     "metadata": {
      "needs_background": "light"
     },
     "output_type": "display_data"
    }
   ],
   "source": [
    "plt.scatter(X,y,color=\"black\")"
   ]
  },
  {
   "cell_type": "markdown",
   "id": "technical-router",
   "metadata": {},
   "source": [
    "# Regresion lineal"
   ]
  },
  {
   "cell_type": "code",
   "execution_count": 11,
   "id": "favorite-algeria",
   "metadata": {},
   "outputs": [],
   "source": [
    "X_train = X[:50]\n",
    "X_test  = X[50:]\n",
    "y_train = y[:50]\n",
    "y_test  = y[50:]\n",
    "lr2.fit(X_train,y_train)\n",
    "y_pred  = lr.predict(X_test) \n",
    "b1      = lr.coef_[0]\n",
    "# b0 = np.mean(y)-np.mean(X)*b1"
   ]
  },
  {
   "cell_type": "markdown",
   "id": "handy-bibliography",
   "metadata": {},
   "source": [
    "# Grafica #2"
   ]
  },
  {
   "cell_type": "code",
   "execution_count": 394,
   "id": "premier-wagon",
   "metadata": {},
   "outputs": [
    {
     "data": {
      "text/plain": [
       "[<matplotlib.lines.Line2D at 0x7fa5400c3940>]"
      ]
     },
     "execution_count": 394,
     "metadata": {},
     "output_type": "execute_result"
    },
    {
     "data": {
      "image/png": "[encoded data removed]",
      "text/plain": [
       "<Figure size 432x288 with 1 Axes>"
      ]
     },
     "metadata": {
      "needs_background": "light"
     },
     "output_type": "display_data"
    }
   ],
   "source": [
    "plt.scatter(X_test,y_test,color=\"black\",s=100)\n",
    "plt.plot(X_test,y_pred,color=\"red\")"
   ]
  },
  {
   "cell_type": "markdown",
   "id": "allied-saskatchewan",
   "metadata": {},
   "source": [
    "# Residuales"
   ]
  },
  {
   "cell_type": "code",
   "execution_count": 12,
   "id": "voluntary-assistant",
   "metadata": {},
   "outputs": [
    {
     "data": {
      "text/plain": [
       "<matplotlib.collections.PathCollection at 0x7f08cd005460>"
      ]
     },
     "execution_count": 12,
     "metadata": {},
     "output_type": "execute_result"
    },
    {
     "data": {
      "image/png": "[encoded data removed]",
      "text/plain": [
       "<Figure size 432x288 with 1 Axes>"
      ]
     },
     "metadata": {
      "needs_background": "light"
     },
     "output_type": "display_data"
    }
   ],
   "source": [
    "y_pred    = lr2.predict(X)\n",
    "residuals = y-y_pred\n",
    "plt.scatter(X,residuals,color=\"black\")"
   ]
  },
  {
   "cell_type": "markdown",
   "id": "round-theta",
   "metadata": {},
   "source": [
    "# Data"
   ]
  },
  {
   "cell_type": "code",
   "execution_count": 360,
   "id": "gorgeous-marijuana",
   "metadata": {},
   "outputs": [
    {
     "data": {
      "text/html": [
       "<div>\n",
       "<style scoped>\n",
       "    .dataframe tbody tr th:only-of-type {\n",
       "        vertical-align: middle;\n",
       "    }\n",
       "\n",
       "    .dataframe tbody tr th {\n",
       "        vertical-align: top;\n",
       "    }\n",
       "\n",
       "    .dataframe thead th {\n",
       "        text-align: right;\n",
       "    }\n",
       "</style>\n",
       "<table border=\"1\" class=\"dataframe\">\n",
       "  <thead>\n",
       "    <tr style=\"text-align: right;\">\n",
       "      <th></th>\n",
       "      <th>x</th>\n",
       "      <th>y</th>\n",
       "    </tr>\n",
       "  </thead>\n",
       "  <tbody>\n",
       "    <tr>\n",
       "      <th>0</th>\n",
       "      <td>0</td>\n",
       "      <td>394.33</td>\n",
       "    </tr>\n",
       "    <tr>\n",
       "      <th>1</th>\n",
       "      <td>4</td>\n",
       "      <td>329.50</td>\n",
       "    </tr>\n",
       "    <tr>\n",
       "      <th>2</th>\n",
       "      <td>8</td>\n",
       "      <td>291.00</td>\n",
       "    </tr>\n",
       "    <tr>\n",
       "      <th>3</th>\n",
       "      <td>12</td>\n",
       "      <td>255.17</td>\n",
       "    </tr>\n",
       "    <tr>\n",
       "      <th>4</th>\n",
       "      <td>16</td>\n",
       "      <td>229.33</td>\n",
       "    </tr>\n",
       "    <tr>\n",
       "      <th>5</th>\n",
       "      <td>20</td>\n",
       "      <td>204.83</td>\n",
       "    </tr>\n",
       "    <tr>\n",
       "      <th>6</th>\n",
       "      <td>24</td>\n",
       "      <td>179.00</td>\n",
       "    </tr>\n",
       "    <tr>\n",
       "      <th>7</th>\n",
       "      <td>28</td>\n",
       "      <td>163.83</td>\n",
       "    </tr>\n",
       "    <tr>\n",
       "      <th>8</th>\n",
       "      <td>32</td>\n",
       "      <td>150.33</td>\n",
       "    </tr>\n",
       "  </tbody>\n",
       "</table>\n",
       "</div>"
      ],
      "text/plain": [
       "    x       y\n",
       "0   0  394.33\n",
       "1   4  329.50\n",
       "2   8  291.00\n",
       "3  12  255.17\n",
       "4  16  229.33\n",
       "5  20  204.83\n",
       "6  24  179.00\n",
       "7  28  163.83\n",
       "8  32  150.33"
      ]
     },
     "execution_count": 360,
     "metadata": {},
     "output_type": "execute_result"
    }
   ],
   "source": [
    "df = pd.read_csv(\"data.csv\")\n",
    "df"
   ]
  },
  {
   "cell_type": "code",
   "execution_count": 393,
   "id": "fantastic-alaska",
   "metadata": {},
   "outputs": [],
   "source": [
    "lr3 = LinearRegression()\n",
    "X       = df['x'].to_numpy().reshape(-1,1)\n",
    "y       = df['y'].to_numpy().reshape(-1,1)"
   ]
  },
  {
   "cell_type": "code",
   "execution_count": 394,
   "id": "bronze-worse",
   "metadata": {},
   "outputs": [
    {
     "data": {
      "text/plain": [
       "<matplotlib.collections.PathCollection at 0x7f08c76ddf10>"
      ]
     },
     "execution_count": 394,
     "metadata": {},
     "output_type": "execute_result"
    },
    {
     "data": {
      "image/png": "[encoded data removed]",
      "text/plain": [
       "<Figure size 432x288 with 1 Axes>"
      ]
     },
     "metadata": {
      "needs_background": "light"
     },
     "output_type": "display_data"
    }
   ],
   "source": [
    "plt.scatter(X,y,color=\"black\")"
   ]
  },
  {
   "cell_type": "code",
   "execution_count": 395,
   "id": "breathing-throw",
   "metadata": {},
   "outputs": [],
   "source": [
    "lr3.fit(X,y)\n",
    "b1     = lr3.coef_[0][0]\n",
    "b0     = np.mean(y)-np.mean(X)*b1"
   ]
  },
  {
   "cell_type": "code",
   "execution_count": 396,
   "id": "olympic-accordance",
   "metadata": {},
   "outputs": [],
   "source": [
    "y_pred=lr3.predict(X)"
   ]
  },
  {
   "cell_type": "code",
   "execution_count": 398,
   "id": "after-section",
   "metadata": {},
   "outputs": [
    {
     "data": {
      "text/plain": [
       "[<matplotlib.lines.Line2D at 0x7f08c761d040>]"
      ]
     },
     "execution_count": 398,
     "metadata": {},
     "output_type": "execute_result"
    },
    {
     "data": {
      "image/png": "[encoded data removed]",
      "text/plain": [
       "<Figure size 432x288 with 1 Axes>"
      ]
     },
     "metadata": {
      "needs_background": "light"
     },
     "output_type": "display_data"
    }
   ],
   "source": [
    "plt.scatter(X,y,color=\"black\")\n",
    "plt.plot(X,y_pred,color=\"red\")"
   ]
  },
  {
   "cell_type": "code",
   "execution_count": 399,
   "id": "velvet-banking",
   "metadata": {},
   "outputs": [],
   "source": [
    "residuals = y-y_pred"
   ]
  },
  {
   "cell_type": "code",
   "execution_count": 400,
   "id": "better-position",
   "metadata": {},
   "outputs": [
    {
     "data": {
      "text/plain": [
       "<matplotlib.collections.PathCollection at 0x7f08c75e1fd0>"
      ]
     },
     "execution_count": 400,
     "metadata": {},
     "output_type": "execute_result"
    },
    {
     "data": {
      "image/png": "[encoded data removed]",
      "text/plain": [
       "<Figure size 432x288 with 1 Axes>"
      ]
     },
     "metadata": {
      "needs_background": "light"
     },
     "output_type": "display_data"
    }
   ],
   "source": [
    "plt.scatter(X,residuals,color=\"black\",s=200)"
   ]
  },
  {
   "cell_type": "code",
   "execution_count": 359,
   "id": "demonstrated-personality",
   "metadata": {
    "scrolled": true
   },
   "outputs": [
    {
     "data": {
      "text/plain": [
       "<matplotlib.collections.PathCollection at 0x7f08c7d57070>"
      ]
     },
     "execution_count": 359,
     "metadata": {},
     "output_type": "execute_result"
    },
    {
     "data": {
      "image/png": "[encoded data removed]",
      "text/plain": [
       "<Figure size 432x288 with 1 Axes>"
      ]
     },
     "metadata": {
      "needs_background": "light"
     },
     "output_type": "display_data"
    }
   ],
   "source": [
    "DV    = np.log10(y)\n",
    "_DV   = np.log10(b0+b1*X)\n",
    "pred  = np.power(10,_DV)\n",
    "res   = y - pred\n",
    "# y,pred\n",
    "x0 = np.linspace(np.min(X),np.max(X),100)\n",
    "y0 = np.zeros(100)\n",
    "# plt.plot(x0,y0,color=\"red\")\n",
    "plt.scatter(X,res,color=\"black\",s=120,alpha=0.8)"
   ]
  },
  {
   "cell_type": "code",
   "execution_count": 347,
   "id": "polished-mention",
   "metadata": {},
   "outputs": [
    {
     "data": {
      "text/plain": [
       "[<matplotlib.lines.Line2D at 0x7f08c80d5910>]"
      ]
     },
     "execution_count": 347,
     "metadata": {},
     "output_type": "execute_result"
    },
    {
     "data": {
      "image/png": "[encoded data removed]",
      "text/plain": [
       "<Figure size 432x288 with 1 Axes>"
      ]
     },
     "metadata": {
      "needs_background": "light"
     },
     "output_type": "display_data"
    }
   ],
   "source": [
    "# pred,y\n",
    "plt.scatter(X,y,color=\"black\")\n",
    "plt.plot(X,pred,color=\"red\")"
   ]
  },
  {
   "cell_type": "code",
   "execution_count": 348,
   "id": "wanted-purchase",
   "metadata": {},
   "outputs": [
    {
     "name": "stdout",
     "output_type": "stream",
     "text": [
      "Mean absolute error: 14.09\n",
      "Mean squared error: 281.28\n",
      "Root Mean squared error: 16.77\n",
      "Coefficient of determination: 95.26%\n"
     ]
    }
   ],
   "source": [
    "print('Mean absolute error: %.2f'% float(mean_absolute_error(y, pred)))\n",
    "MSE = mean_squared_error(y, pred)\n",
    "print('Mean squared error: %.2f'% MSE)\n",
    "print('Root Mean squared error: %.2f'% math.sqrt(MSE))\n",
    "print('Coefficient of determination: %.2f'% float(r2_score(y,pred)*100 ) + \"%\")"
   ]
  },
  {
   "cell_type": "code",
   "execution_count": 349,
   "id": "confused-salem",
   "metadata": {},
   "outputs": [
    {
     "data": {
      "text/plain": [
       "<matplotlib.collections.PathCollection at 0x7f08c80a9df0>"
      ]
     },
     "execution_count": 349,
     "metadata": {},
     "output_type": "execute_result"
    },
    {
     "data": {
      "image/png": "[encoded data removed]",
      "text/plain": [
       "<Figure size 432x288 with 1 Axes>"
      ]
     },
     "metadata": {
      "needs_background": "light"
     },
     "output_type": "display_data"
    }
   ],
   "source": [
    "DV   = np.sqrt(y)\n",
    "_DV  = np.sqrt(b0+b1*X)\n",
    "pred = np.power(_DV,2)\n",
    "res  = y-pred\n",
    "plt.scatter(X,res,color=\"black\")"
   ]
  },
  {
   "cell_type": "code",
   "execution_count": 350,
   "id": "extensive-couple",
   "metadata": {},
   "outputs": [
    {
     "name": "stdout",
     "output_type": "stream",
     "text": [
      "Mean absolute error: 14.09\n",
      "Mean squared error: 281.28\n",
      "Root Mean squared error: 16.77\n",
      "Coefficient of determination: 95.26%\n"
     ]
    }
   ],
   "source": [
    "print('Mean absolute error: %.2f'% float(mean_absolute_error(y, pred)))\n",
    "MSE = mean_squared_error(y, pred)\n",
    "print('Mean squared error: %.2f'% MSE)\n",
    "print('Root Mean squared error: %.2f'% math.sqrt(MSE))\n",
    "print('Coefficient of determination: %.2f'% float(r2_score(y,pred)*100 ) + \"%\")"
   ]
  },
  {
   "cell_type": "code",
   "execution_count": 333,
   "id": "norwegian-encoding",
   "metadata": {},
   "outputs": [
    {
     "data": {
      "text/plain": [
       "[<matplotlib.lines.Line2D at 0x7f08c84e6cd0>]"
      ]
     },
     "execution_count": 333,
     "metadata": {},
     "output_type": "execute_result"
    },
    {
     "data": {
      "image/png": "[encoded data removed]",
      "text/plain": [
       "<Figure size 432x288 with 1 Axes>"
      ]
     },
     "metadata": {
      "needs_background": "light"
     },
     "output_type": "display_data"
    }
   ],
   "source": [
    "plt.scatter(X,y,color=\"black\")\n",
    "plt.plot(X,pred,color=\"red\")"
   ]
  }
 ],
 "metadata": {
  "kernelspec": {
   "display_name": "Python 3",
   "language": "python",
   "name": "python3"
  },
  "language_info": {
   "codemirror_mode": {
    "name": "ipython",
    "version": 3
   },
   "file_extension": ".py",
   "mimetype": "text/x-python",
   "name": "python",
   "nbconvert_exporter": "python",
   "pygments_lexer": "ipython3",
   "version": "3.8.5"
  }
 },
 "nbformat": 4,
 "nbformat_minor": 5
}
