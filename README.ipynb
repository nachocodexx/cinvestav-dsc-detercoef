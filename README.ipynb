{
 "cells": [
  {
   "cell_type": "code",
   "execution_count": 56,
   "id": "considerable-fitting",
   "metadata": {},
   "outputs": [],
   "source": [
    "import numpy as np\n",
    "import pandas as pd\n",
    "import matplotlib.pyplot as plt\n",
    "from sklearn.preprocessing import StandardScaler\n",
    "from sklearn.linear_model import LinearRegression,LogisticRegression\n",
    "from sklearn.metrics import mean_squared_error,mean_absolute_error, r2_score\n",
    "from sklearn.model_selection import train_test_split as TTS\n",
    "# train_test_split\n",
    "import math\n",
    "STDC =  StandardScaler()\n",
    "lr   = LinearRegression()\n",
    "plt.rc('font', size=24)          # controls default text sizes\n",
    "plt.rc('axes', titlesize=20)     # fontsize of the axes title\n",
    "plt.rc('axes', labelsize=20)    # fontsize of the x and y labels\n",
    "plt.rc('xtick', labelsize=20)    # fontsize of the tick labels\n",
    "plt.rc('ytick', labelsize=20)    # fontsize of the tick labels\n",
    "plt.rc('legend', fontsize=24)    # legend fontsize\n",
    "plt.rc('figure', titlesize=30)  # fontsize of the figure title\n",
    "def get_errors(y,y_pred):\n",
    "    print('Mean absolute error: %.2f'% float(mean_absolute_error(y, y_pred)))\n",
    "    MSE = mean_squared_error(y, y_pred)\n",
    "    print('Mean squared error: %.2f'% MSE)\n",
    "    print('Root Mean squared error: %.2f'% math.sqrt(MSE))\n",
    "    print('Coefficient of determination: %.2f'% float(r2_score(y,y_pred)*100 ) + \"%\")"
   ]
  },
  {
   "cell_type": "markdown",
   "id": "statewide-overall",
   "metadata": {},
   "source": [
    "# Sintetico #1"
   ]
  },
  {
   "cell_type": "code",
   "execution_count": 4,
   "id": "proved-amendment",
   "metadata": {},
   "outputs": [
    {
     "data": {
      "text/html": [
       "<div>\n",
       "<style scoped>\n",
       "    .dataframe tbody tr th:only-of-type {\n",
       "        vertical-align: middle;\n",
       "    }\n",
       "\n",
       "    .dataframe tbody tr th {\n",
       "        vertical-align: top;\n",
       "    }\n",
       "\n",
       "    .dataframe thead th {\n",
       "        text-align: right;\n",
       "    }\n",
       "</style>\n",
       "<table border=\"1\" class=\"dataframe\">\n",
       "  <thead>\n",
       "    <tr style=\"text-align: right;\">\n",
       "      <th></th>\n",
       "      <th>x1</th>\n",
       "      <th>x2</th>\n",
       "      <th>target</th>\n",
       "    </tr>\n",
       "  </thead>\n",
       "  <tbody>\n",
       "    <tr>\n",
       "      <th>0</th>\n",
       "      <td>0.665117</td>\n",
       "      <td>0.619822</td>\n",
       "      <td>0</td>\n",
       "    </tr>\n",
       "    <tr>\n",
       "      <th>1</th>\n",
       "      <td>0.389321</td>\n",
       "      <td>0.341135</td>\n",
       "      <td>0</td>\n",
       "    </tr>\n",
       "    <tr>\n",
       "      <th>2</th>\n",
       "      <td>0.693654</td>\n",
       "      <td>0.622386</td>\n",
       "      <td>0</td>\n",
       "    </tr>\n",
       "  </tbody>\n",
       "</table>\n",
       "</div>"
      ],
      "text/plain": [
       "         x1        x2  target\n",
       "0  0.665117  0.619822       0\n",
       "1  0.389321  0.341135       0\n",
       "2  0.693654  0.622386       0"
      ]
     },
     "execution_count": 4,
     "metadata": {},
     "output_type": "execute_result"
    }
   ],
   "source": [
    "df1  = pd.read_csv(\"Sintetico.csv\",delimiter='\\t',header=None)\n",
    "df1.rename(columns={0:'x1',1:'x2',2:'target'},inplace=True)\n",
    "X = df1.iloc[:,0].to_numpy().reshape(-1,1)\n",
    "y = df1.iloc[:,1].to_numpy()\n",
    "df1.head(3)\n",
    "# y\n",
    "# X"
   ]
  },
  {
   "cell_type": "markdown",
   "id": "dirty-oxford",
   "metadata": {},
   "source": [
    "# Grafica #1"
   ]
  },
  {
   "cell_type": "code",
   "execution_count": 5,
   "id": "international-brain",
   "metadata": {},
   "outputs": [
    {
     "data": {
      "text/plain": [
       "<matplotlib.collections.PathCollection at 0x7f08cf1c7b80>"
      ]
     },
     "execution_count": 5,
     "metadata": {},
     "output_type": "execute_result"
    },
    {
     "data": {
      "image/png": "[encoded data removed]",
      "text/plain": [
       "<Figure size 432x288 with 1 Axes>"
      ]
     },
     "metadata": {
      "needs_background": "light"
     },
     "output_type": "display_data"
    }
   ],
   "source": [
    "plt.scatter(df1.x1,df1.x2,color=\"black\",s=100,alpha=0.9)"
   ]
  },
  {
   "cell_type": "markdown",
   "id": "married-atlantic",
   "metadata": {},
   "source": [
    "# Regresion lineal"
   ]
  },
  {
   "cell_type": "code",
   "execution_count": 6,
   "id": "described-transfer",
   "metadata": {},
   "outputs": [],
   "source": [
    "X_train = X[:50]\n",
    "X_test  = X[50:]\n",
    "y_train = y[:50]\n",
    "y_test  = y[50:]\n",
    "lr.fit(X_train,y_train)\n",
    "y_pred  = lr.predict(X_test) \n",
    "b1      = lr.coef_[0]"
   ]
  },
  {
   "cell_type": "markdown",
   "id": "acquired-priority",
   "metadata": {},
   "source": [
    "# Grafica #2"
   ]
  },
  {
   "cell_type": "code",
   "execution_count": 7,
   "id": "phantom-colony",
   "metadata": {},
   "outputs": [
    {
     "data": {
      "text/plain": [
       "[<matplotlib.lines.Line2D at 0x7f08cd0bfbb0>]"
      ]
     },
     "execution_count": 7,
     "metadata": {},
     "output_type": "execute_result"
    },
    {
     "data": {
      "image/png": "[encoded data removed]",
      "text/plain": [
       "<Figure size 432x288 with 1 Axes>"
      ]
     },
     "metadata": {
      "needs_background": "light"
     },
     "output_type": "display_data"
    }
   ],
   "source": [
    "plt.scatter(X_test,y_test,color=\"black\",s=100)\n",
    "plt.plot(X_test,y_pred,color=\"red\")"
   ]
  },
  {
   "cell_type": "markdown",
   "id": "sharp-reader",
   "metadata": {},
   "source": [
    "## Error absoluto medio"
   ]
  },
  {
   "cell_type": "code",
   "execution_count": 8,
   "id": "circular-sense",
   "metadata": {},
   "outputs": [
    {
     "name": "stdout",
     "output_type": "stream",
     "text": [
      "Mean absolute error: 0.08\n"
     ]
    }
   ],
   "source": [
    "print('Mean absolute error: %.2f'% float(mean_absolute_error(y_test, y_pred)))"
   ]
  },
  {
   "cell_type": "markdown",
   "id": "about-habitat",
   "metadata": {},
   "source": [
    "# Error cuadrado medio"
   ]
  },
  {
   "cell_type": "code",
   "execution_count": 359,
   "id": "rising-novel",
   "metadata": {},
   "outputs": [
    {
     "name": "stdout",
     "output_type": "stream",
     "text": [
      "Mean squared error: 0.01\n"
     ]
    }
   ],
   "source": [
    "MSE = mean_squared_error(y_test, y_pred)\n",
    "print('Mean squared error: %.2f'% MSE)"
   ]
  },
  {
   "cell_type": "markdown",
   "id": "ethical-canadian",
   "metadata": {},
   "source": [
    "# Raiz del error cuadrado medio  "
   ]
  },
  {
   "cell_type": "code",
   "execution_count": 360,
   "id": "unexpected-beads",
   "metadata": {},
   "outputs": [
    {
     "name": "stdout",
     "output_type": "stream",
     "text": [
      "Root Mean squared error: 0.10\n"
     ]
    }
   ],
   "source": [
    "print('Root Mean squared error: %.2f'% math.sqrt(MSE))"
   ]
  },
  {
   "cell_type": "markdown",
   "id": "assured-commission",
   "metadata": {},
   "source": [
    "# Coeficiento de determinacion"
   ]
  },
  {
   "cell_type": "code",
   "execution_count": 361,
   "id": "above-flash",
   "metadata": {},
   "outputs": [
    {
     "name": "stdout",
     "output_type": "stream",
     "text": [
      "Coefficient of determination: 41.27%\n"
     ]
    }
   ],
   "source": [
    "print('Coefficient of determination: %.2f'% float(r2_score(y_test,y_pred)*100 ) + \"%\")"
   ]
  },
  {
   "cell_type": "markdown",
   "id": "sudden-powell",
   "metadata": {},
   "source": [
    "# Grafica #3"
   ]
  },
  {
   "cell_type": "code",
   "execution_count": 362,
   "id": "leading-knitting",
   "metadata": {},
   "outputs": [
    {
     "data": {
      "text/plain": [
       "[<matplotlib.lines.Line2D at 0x7fa542466d68>]"
      ]
     },
     "execution_count": 362,
     "metadata": {},
     "output_type": "execute_result"
    },
    {
     "data": {
      "image/png": "[encoded data removed]",
      "text/plain": [
       "<Figure size 432x288 with 1 Axes>"
      ]
     },
     "metadata": {
      "needs_background": "light"
     },
     "output_type": "display_data"
    }
   ],
   "source": [
    "b0 = np.mean(y)-np.mean(X)*b1\n",
    "plt.scatter(X,y,color=\"black\")\n",
    "plt.plot(X,b0 + b1*X,color=\"red\")"
   ]
  },
  {
   "cell_type": "markdown",
   "id": "later-flashing",
   "metadata": {},
   "source": [
    "## Residuals"
   ]
  },
  {
   "cell_type": "code",
   "execution_count": 368,
   "id": "first-newton",
   "metadata": {},
   "outputs": [
    {
     "data": {
      "text/plain": [
       "<matplotlib.collections.PathCollection at 0x7fa540339a58>"
      ]
     },
     "execution_count": 368,
     "metadata": {},
     "output_type": "execute_result"
    },
    {
     "data": {
      "image/png": "[encoded data removed]",
      "text/plain": [
       "<Figure size 432x288 with 1 Axes>"
      ]
     },
     "metadata": {
      "needs_background": "light"
     },
     "output_type": "display_data"
    }
   ],
   "source": [
    "y_pred    = lr.predict(X)\n",
    "residuals = y-y_pred\n",
    "plt.scatter(X,residuals,color=\"black\")"
   ]
  },
  {
   "cell_type": "markdown",
   "id": "greater-princeton",
   "metadata": {},
   "source": [
    "# Sintetico 2"
   ]
  },
  {
   "cell_type": "code",
   "execution_count": 9,
   "id": "interstate-fellowship",
   "metadata": {},
   "outputs": [],
   "source": [
    "lr2 = LinearRegression()\n",
    "df2 = pd.read_csv(\"Sintetico2.csv\",delimiter=\"\\t\",header=None)\n",
    "df2.rename(columns={0:'x',1:'y'},inplace=True)\n",
    "df2.drop(columns=[2],inplace=True)\n",
    "X = df2['x'].to_numpy().reshape(-1,1)\n",
    "y = df2['y'].to_numpy().reshape(-1,1)"
   ]
  },
  {
   "cell_type": "markdown",
   "id": "conceptual-dublin",
   "metadata": {},
   "source": [
    "# Grafica #1"
   ]
  },
  {
   "cell_type": "code",
   "execution_count": 10,
   "id": "julian-writing",
   "metadata": {},
   "outputs": [
    {
     "data": {
      "text/plain": [
       "<matplotlib.collections.PathCollection at 0x7f08cd09dcd0>"
      ]
     },
     "execution_count": 10,
     "metadata": {},
     "output_type": "execute_result"
    },
    {
     "data": {
      "image/png": "[encoded data removed]",
      "text/plain": [
       "<Figure size 432x288 with 1 Axes>"
      ]
     },
     "metadata": {
      "needs_background": "light"
     },
     "output_type": "display_data"
    }
   ],
   "source": [
    "plt.scatter(X,y,color=\"black\")"
   ]
  },
  {
   "cell_type": "markdown",
   "id": "technical-router",
   "metadata": {},
   "source": [
    "# Regresion lineal"
   ]
  },
  {
   "cell_type": "code",
   "execution_count": 11,
   "id": "favorite-algeria",
   "metadata": {},
   "outputs": [],
   "source": [
    "X_train = X[:50]\n",
    "X_test  = X[50:]\n",
    "y_train = y[:50]\n",
    "y_test  = y[50:]\n",
    "lr2.fit(X_train,y_train)\n",
    "y_pred  = lr.predict(X_test) \n",
    "b1      = lr.coef_[0]\n",
    "# b0 = np.mean(y)-np.mean(X)*b1"
   ]
  },
  {
   "cell_type": "markdown",
   "id": "handy-bibliography",
   "metadata": {},
   "source": [
    "# Grafica #2"
   ]
  },
  {
   "cell_type": "code",
   "execution_count": 394,
   "id": "premier-wagon",
   "metadata": {},
   "outputs": [
    {
     "data": {
      "text/plain": [
       "[<matplotlib.lines.Line2D at 0x7fa5400c3940>]"
      ]
     },
     "execution_count": 394,
     "metadata": {},
     "output_type": "execute_result"
    },
    {
     "data": {
      "image/png": "[encoded data removed]",
      "text/plain": [
       "<Figure size 432x288 with 1 Axes>"
      ]
     },
     "metadata": {
      "needs_background": "light"
     },
     "output_type": "display_data"
    }
   ],
   "source": [
    "plt.scatter(X_test,y_test,color=\"black\",s=100)\n",
    "plt.plot(X_test,y_pred,color=\"red\")"
   ]
  },
  {
   "cell_type": "markdown",
   "id": "allied-saskatchewan",
   "metadata": {},
   "source": [
    "# Residuales"
   ]
  },
  {
   "cell_type": "code",
   "execution_count": 12,
   "id": "voluntary-assistant",
   "metadata": {},
   "outputs": [
    {
     "data": {
      "text/plain": [
       "<matplotlib.collections.PathCollection at 0x7f08cd005460>"
      ]
     },
     "execution_count": 12,
     "metadata": {},
     "output_type": "execute_result"
    },
    {
     "data": {
      "image/png": "[encoded data removed]",
      "text/plain": [
       "<Figure size 432x288 with 1 Axes>"
      ]
     },
     "metadata": {
      "needs_background": "light"
     },
     "output_type": "display_data"
    }
   ],
   "source": [
    "y_pred    = lr2.predict(X)\n",
    "residuals = y-y_pred\n",
    "plt.scatter(X,residuals,color=\"black\")"
   ]
  },
  {
   "cell_type": "markdown",
   "id": "round-theta",
   "metadata": {},
   "source": [
    "# Data"
   ]
  },
  {
   "cell_type": "code",
   "execution_count": 77,
   "id": "gorgeous-marijuana",
   "metadata": {},
   "outputs": [
    {
     "data": {
      "text/html": [
       "<div>\n",
       "<style scoped>\n",
       "    .dataframe tbody tr th:only-of-type {\n",
       "        vertical-align: middle;\n",
       "    }\n",
       "\n",
       "    .dataframe tbody tr th {\n",
       "        vertical-align: top;\n",
       "    }\n",
       "\n",
       "    .dataframe thead th {\n",
       "        text-align: right;\n",
       "    }\n",
       "</style>\n",
       "<table border=\"1\" class=\"dataframe\">\n",
       "  <thead>\n",
       "    <tr style=\"text-align: right;\">\n",
       "      <th></th>\n",
       "      <th>x</th>\n",
       "      <th>y</th>\n",
       "    </tr>\n",
       "  </thead>\n",
       "  <tbody>\n",
       "    <tr>\n",
       "      <th>0</th>\n",
       "      <td>0</td>\n",
       "      <td>394.33</td>\n",
       "    </tr>\n",
       "    <tr>\n",
       "      <th>1</th>\n",
       "      <td>4</td>\n",
       "      <td>329.50</td>\n",
       "    </tr>\n",
       "    <tr>\n",
       "      <th>2</th>\n",
       "      <td>8</td>\n",
       "      <td>291.00</td>\n",
       "    </tr>\n",
       "    <tr>\n",
       "      <th>3</th>\n",
       "      <td>12</td>\n",
       "      <td>255.17</td>\n",
       "    </tr>\n",
       "    <tr>\n",
       "      <th>4</th>\n",
       "      <td>16</td>\n",
       "      <td>229.33</td>\n",
       "    </tr>\n",
       "    <tr>\n",
       "      <th>5</th>\n",
       "      <td>20</td>\n",
       "      <td>204.83</td>\n",
       "    </tr>\n",
       "    <tr>\n",
       "      <th>6</th>\n",
       "      <td>24</td>\n",
       "      <td>179.00</td>\n",
       "    </tr>\n",
       "    <tr>\n",
       "      <th>7</th>\n",
       "      <td>28</td>\n",
       "      <td>163.83</td>\n",
       "    </tr>\n",
       "    <tr>\n",
       "      <th>8</th>\n",
       "      <td>32</td>\n",
       "      <td>150.33</td>\n",
       "    </tr>\n",
       "  </tbody>\n",
       "</table>\n",
       "</div>"
      ],
      "text/plain": [
       "    x       y\n",
       "0   0  394.33\n",
       "1   4  329.50\n",
       "2   8  291.00\n",
       "3  12  255.17\n",
       "4  16  229.33\n",
       "5  20  204.83\n",
       "6  24  179.00\n",
       "7  28  163.83\n",
       "8  32  150.33"
      ]
     },
     "execution_count": 77,
     "metadata": {},
     "output_type": "execute_result"
    }
   ],
   "source": [
    "df = pd.read_csv(\"data.csv\")\n",
    "df"
   ]
  },
  {
   "cell_type": "code",
   "execution_count": 78,
   "id": "fantastic-alaska",
   "metadata": {},
   "outputs": [],
   "source": [
    "lr3 = LinearRegression()\n",
    "X       = df['x'].to_numpy().reshape(-1,1)\n",
    "y       = df['y'].to_numpy().reshape(-1,1)"
   ]
  },
  {
   "cell_type": "code",
   "execution_count": 79,
   "id": "bronze-worse",
   "metadata": {},
   "outputs": [
    {
     "data": {
      "text/plain": [
       "<matplotlib.collections.PathCollection at 0x7f8d95070940>"
      ]
     },
     "execution_count": 79,
     "metadata": {},
     "output_type": "execute_result"
    },
    {
     "data": {
      "image/png": "[encoded data removed]",
      "text/plain": [
       "<Figure size 432x288 with 1 Axes>"
      ]
     },
     "metadata": {
      "needs_background": "light"
     },
     "output_type": "display_data"
    }
   ],
   "source": [
    "plt.scatter(X,y,color=\"black\")"
   ]
  },
  {
   "cell_type": "code",
   "execution_count": 81,
   "id": "breathing-throw",
   "metadata": {},
   "outputs": [],
   "source": [
    "lr3.fit(X,y)\n",
    "b1     = lr3.coef_[0][0]\n",
    "b0     = lr3.intercept_\n",
    "# b0     = np.mean(y)-np.mean(X)*b1"
   ]
  },
  {
   "cell_type": "code",
   "execution_count": 82,
   "id": "olympic-accordance",
   "metadata": {},
   "outputs": [],
   "source": [
    "y_pred=lr3.predict(X)"
   ]
  },
  {
   "cell_type": "code",
   "execution_count": 83,
   "id": "missing-concord",
   "metadata": {},
   "outputs": [
    {
     "name": "stdout",
     "output_type": "stream",
     "text": [
      "Mean absolute error: 14.09\n",
      "Mean squared error: 281.28\n",
      "Root Mean squared error: 16.77\n",
      "Coefficient of determination: 95.26%\n"
     ]
    }
   ],
   "source": [
    "get_errors(y,y_pred)"
   ]
  },
  {
   "cell_type": "code",
   "execution_count": 84,
   "id": "after-section",
   "metadata": {},
   "outputs": [
    {
     "data": {
      "text/plain": [
       "[<matplotlib.lines.Line2D at 0x7f8d9a70d1c0>]"
      ]
     },
     "execution_count": 84,
     "metadata": {},
     "output_type": "execute_result"
    },
    {
     "data": {
      "image/png": "[encoded data removed]",
      "text/plain": [
       "<Figure size 432x288 with 1 Axes>"
      ]
     },
     "metadata": {
      "needs_background": "light"
     },
     "output_type": "display_data"
    }
   ],
   "source": [
    "plt.scatter(X,y,color=\"black\")\n",
    "plt.plot(X,y_pred,color=\"red\")"
   ]
  },
  {
   "cell_type": "code",
   "execution_count": 85,
   "id": "better-position",
   "metadata": {},
   "outputs": [
    {
     "data": {
      "text/plain": [
       "<matplotlib.collections.PathCollection at 0x7f8d95085130>"
      ]
     },
     "execution_count": 85,
     "metadata": {},
     "output_type": "execute_result"
    },
    {
     "data": {
      "image/png": "[encoded data removed]",
      "text/plain": [
       "<Figure size 432x288 with 1 Axes>"
      ]
     },
     "metadata": {
      "needs_background": "light"
     },
     "output_type": "display_data"
    }
   ],
   "source": [
    "residuals = y-y_pred\n",
    "plt.scatter(X,residuals,color=\"black\",s=120)"
   ]
  },
  {
   "cell_type": "code",
   "execution_count": 107,
   "id": "demonstrated-personality",
   "metadata": {
    "scrolled": true
   },
   "outputs": [
    {
     "data": {
      "text/plain": [
       "<matplotlib.collections.PathCollection at 0x7f8d9a47b880>"
      ]
     },
     "execution_count": 107,
     "metadata": {},
     "output_type": "execute_result"
    },
    {
     "data": {
      "image/png": "[encoded data removed]",
      "text/plain": [
       "<Figure size 360x360 with 1 Axes>"
      ]
     },
     "metadata": {
      "needs_background": "light"
     },
     "output_type": "display_data"
    }
   ],
   "source": [
    "DV    = np.log10(y)\n",
    "lr3.fit(X,DV)\n",
    "b1 = lr3.coef_[0][0]\n",
    "b0 =lr3.intercept_\n",
    "# b0     = np.mean(DV)-np.mean(X)*b1\n",
    "_DV   = np.log10(b0+b1*X)\n",
    "# _DV   = b0+b1*X\n",
    "pred  = np.power(10,_DV)\n",
    "res   = y - pred\n",
    "# print(pred,y)\n",
    "# pred\n",
    "# DV,pred\n",
    "# x0 = np.linspace(np.min(X),np.max(X),100)\n",
    "# y0 = np.zeros(100)\n",
    "# plt.plot(x0,y0,color=\"red\")\n",
    "_,ax = plt.subplots(figsize=(5,5,))\n",
    "ax.set_title(\"Residuales\")\n",
    "plt.scatter(X,res,color=\"black\",s=120,alpha=0.8)\n"
   ]
  },
  {
   "cell_type": "code",
   "execution_count": 108,
   "id": "polished-mention",
   "metadata": {},
   "outputs": [
    {
     "data": {
      "text/plain": [
       "[<matplotlib.lines.Line2D at 0x7f8d9a7665e0>]"
      ]
     },
     "execution_count": 108,
     "metadata": {},
     "output_type": "execute_result"
    },
    {
     "data": {
      "image/png": "[encoded data removed]",
      "text/plain": [
       "<Figure size 360x360 with 1 Axes>"
      ]
     },
     "metadata": {
      "needs_background": "light"
     },
     "output_type": "display_data"
    }
   ],
   "source": [
    "_,ax = plt.subplots(figsize=(5,5))\n",
    "ax.set_title(\"Linear regression\")\n",
    "ax.set_xlabel(\"x\")\n",
    "ax.set_ylabel(\"log(y)\")\n",
    "ax.scatter(X,DV,color=\"black\")\n",
    "ax.plot(X,pred,color=\"red\")"
   ]
  },
  {
   "cell_type": "code",
   "execution_count": 147,
   "id": "wanted-purchase",
   "metadata": {},
   "outputs": [
    {
     "name": "stdout",
     "output_type": "stream",
     "text": [
      "Mean absolute error: 0.31\n",
      "Mean squared error: 0.13\n",
      "Root Mean squared error: 0.36\n",
      "Coefficient of determination: 97.73%\n"
     ]
    }
   ],
   "source": [
    "get_errors(DV,pred)"
   ]
  },
  {
   "cell_type": "code",
   "execution_count": 130,
   "id": "confused-salem",
   "metadata": {},
   "outputs": [
    {
     "data": {
      "text/plain": [
       "<matplotlib.collections.PathCollection at 0x7f9732a009a0>"
      ]
     },
     "execution_count": 130,
     "metadata": {},
     "output_type": "execute_result"
    },
    {
     "data": {
      "image/png": "[encoded data removed]",
      "text/plain": [
       "<Figure size 432x288 with 1 Axes>"
      ]
     },
     "metadata": {
      "needs_background": "light"
     },
     "output_type": "display_data"
    }
   ],
   "source": [
    "DV   = np.sqrt(y)\n",
    "lr3.fit(X,DV)\n",
    "b1 = lr3.coef_[0][0]\n",
    "b0     = np.mean(DV)-np.mean(X)*b1\n",
    "_DV  = np.sqrt(b0+b1*X)\n",
    "pred = np.power(_DV,2)\n",
    "res  = DV-pred\n",
    "plt.scatter(X,res,color=\"black\")"
   ]
  },
  {
   "cell_type": "code",
   "execution_count": 131,
   "id": "extensive-couple",
   "metadata": {},
   "outputs": [
    {
     "name": "stdout",
     "output_type": "stream",
     "text": [
      "Mean absolute error: 0.31\n",
      "Mean squared error: 0.13\n",
      "Root Mean squared error: 0.36\n",
      "Coefficient of determination: 97.73%\n"
     ]
    }
   ],
   "source": [
    "get_errors(DV,pred)"
   ]
  },
  {
   "cell_type": "code",
   "execution_count": 47,
   "id": "norwegian-encoding",
   "metadata": {},
   "outputs": [
    {
     "data": {
      "text/plain": [
       "[<matplotlib.lines.Line2D at 0x7f5d04c22610>]"
      ]
     },
     "execution_count": 47,
     "metadata": {},
     "output_type": "execute_result"
    },
    {
     "data": {
      "image/png": "[encoded data removed]",
      "text/plain": [
       "<Figure size 432x288 with 1 Axes>"
      ]
     },
     "metadata": {
      "needs_background": "light"
     },
     "output_type": "display_data"
    }
   ],
   "source": [
    "plt.scatter(X,DV,color=\"black\")\n",
    "plt.plot(X,pred,color=\"red\")"
   ]
  },
  {
   "cell_type": "markdown",
   "id": "numeric-arcade",
   "metadata": {},
   "source": [
    "# Wheater"
   ]
  },
  {
   "cell_type": "code",
   "execution_count": 110,
   "id": "wound-being",
   "metadata": {},
   "outputs": [
    {
     "data": {
      "text/html": [
       "<div>\n",
       "<style scoped>\n",
       "    .dataframe tbody tr th:only-of-type {\n",
       "        vertical-align: middle;\n",
       "    }\n",
       "\n",
       "    .dataframe tbody tr th {\n",
       "        vertical-align: top;\n",
       "    }\n",
       "\n",
       "    .dataframe thead th {\n",
       "        text-align: right;\n",
       "    }\n",
       "</style>\n",
       "<table border=\"1\" class=\"dataframe\">\n",
       "  <thead>\n",
       "    <tr style=\"text-align: right;\">\n",
       "      <th></th>\n",
       "      <th>STA</th>\n",
       "      <th>Date</th>\n",
       "      <th>Precip</th>\n",
       "      <th>WindGustSpd</th>\n",
       "      <th>MaxTemp</th>\n",
       "      <th>MinTemp</th>\n",
       "      <th>MeanTemp</th>\n",
       "      <th>Snowfall</th>\n",
       "      <th>PoorWeather</th>\n",
       "      <th>YR</th>\n",
       "      <th>...</th>\n",
       "      <th>FB</th>\n",
       "      <th>FTI</th>\n",
       "      <th>ITH</th>\n",
       "      <th>PGT</th>\n",
       "      <th>TSHDSBRSGF</th>\n",
       "      <th>SD3</th>\n",
       "      <th>RHX</th>\n",
       "      <th>RHN</th>\n",
       "      <th>RVG</th>\n",
       "      <th>WTE</th>\n",
       "    </tr>\n",
       "  </thead>\n",
       "  <tbody>\n",
       "    <tr>\n",
       "      <th>0</th>\n",
       "      <td>20602</td>\n",
       "      <td>16469</td>\n",
       "      <td>11.43</td>\n",
       "      <td>29.632</td>\n",
       "      <td>27.222222</td>\n",
       "      <td>22.222222</td>\n",
       "      <td>25.000000</td>\n",
       "      <td>0</td>\n",
       "      <td>NaN</td>\n",
       "      <td>45</td>\n",
       "      <td>...</td>\n",
       "      <td>NaN</td>\n",
       "      <td>NaN</td>\n",
       "      <td>NaN</td>\n",
       "      <td>10.2</td>\n",
       "      <td>NaN</td>\n",
       "      <td>NaN</td>\n",
       "      <td>NaN</td>\n",
       "      <td>NaN</td>\n",
       "      <td>NaN</td>\n",
       "      <td>NaN</td>\n",
       "    </tr>\n",
       "    <tr>\n",
       "      <th>1</th>\n",
       "      <td>20602</td>\n",
       "      <td>16470</td>\n",
       "      <td>12.7</td>\n",
       "      <td>59.264</td>\n",
       "      <td>27.777778</td>\n",
       "      <td>22.777778</td>\n",
       "      <td>25.555556</td>\n",
       "      <td>0</td>\n",
       "      <td>NaN</td>\n",
       "      <td>45</td>\n",
       "      <td>...</td>\n",
       "      <td>NaN</td>\n",
       "      <td>NaN</td>\n",
       "      <td>NaN</td>\n",
       "      <td>10.2</td>\n",
       "      <td>NaN</td>\n",
       "      <td>NaN</td>\n",
       "      <td>NaN</td>\n",
       "      <td>NaN</td>\n",
       "      <td>NaN</td>\n",
       "      <td>NaN</td>\n",
       "    </tr>\n",
       "    <tr>\n",
       "      <th>2</th>\n",
       "      <td>20602</td>\n",
       "      <td>16471</td>\n",
       "      <td>4.064</td>\n",
       "      <td>50.004</td>\n",
       "      <td>27.777778</td>\n",
       "      <td>22.777778</td>\n",
       "      <td>25.555556</td>\n",
       "      <td>0</td>\n",
       "      <td>NaN</td>\n",
       "      <td>45</td>\n",
       "      <td>...</td>\n",
       "      <td>NaN</td>\n",
       "      <td>NaN</td>\n",
       "      <td>NaN</td>\n",
       "      <td>1.1</td>\n",
       "      <td>NaN</td>\n",
       "      <td>NaN</td>\n",
       "      <td>NaN</td>\n",
       "      <td>NaN</td>\n",
       "      <td>NaN</td>\n",
       "      <td>NaN</td>\n",
       "    </tr>\n",
       "    <tr>\n",
       "      <th>3</th>\n",
       "      <td>20602</td>\n",
       "      <td>16472</td>\n",
       "      <td>22.606</td>\n",
       "      <td>40.744</td>\n",
       "      <td>26.666667</td>\n",
       "      <td>23.888889</td>\n",
       "      <td>25.555556</td>\n",
       "      <td>0</td>\n",
       "      <td>NaN</td>\n",
       "      <td>45</td>\n",
       "      <td>...</td>\n",
       "      <td>NaN</td>\n",
       "      <td>NaN</td>\n",
       "      <td>NaN</td>\n",
       "      <td>10.4</td>\n",
       "      <td>NaN</td>\n",
       "      <td>NaN</td>\n",
       "      <td>NaN</td>\n",
       "      <td>NaN</td>\n",
       "      <td>NaN</td>\n",
       "      <td>NaN</td>\n",
       "    </tr>\n",
       "    <tr>\n",
       "      <th>4</th>\n",
       "      <td>20602</td>\n",
       "      <td>16473</td>\n",
       "      <td>73.914</td>\n",
       "      <td>51.856</td>\n",
       "      <td>26.111111</td>\n",
       "      <td>23.888889</td>\n",
       "      <td>25.000000</td>\n",
       "      <td>0</td>\n",
       "      <td>NaN</td>\n",
       "      <td>45</td>\n",
       "      <td>...</td>\n",
       "      <td>NaN</td>\n",
       "      <td>NaN</td>\n",
       "      <td>NaN</td>\n",
       "      <td>11.6</td>\n",
       "      <td>NaN</td>\n",
       "      <td>NaN</td>\n",
       "      <td>NaN</td>\n",
       "      <td>NaN</td>\n",
       "      <td>NaN</td>\n",
       "      <td>NaN</td>\n",
       "    </tr>\n",
       "    <tr>\n",
       "      <th>...</th>\n",
       "      <td>...</td>\n",
       "      <td>...</td>\n",
       "      <td>...</td>\n",
       "      <td>...</td>\n",
       "      <td>...</td>\n",
       "      <td>...</td>\n",
       "      <td>...</td>\n",
       "      <td>...</td>\n",
       "      <td>...</td>\n",
       "      <td>...</td>\n",
       "      <td>...</td>\n",
       "      <td>...</td>\n",
       "      <td>...</td>\n",
       "      <td>...</td>\n",
       "      <td>...</td>\n",
       "      <td>...</td>\n",
       "      <td>...</td>\n",
       "      <td>...</td>\n",
       "      <td>...</td>\n",
       "      <td>...</td>\n",
       "      <td>...</td>\n",
       "    </tr>\n",
       "    <tr>\n",
       "      <th>527</th>\n",
       "      <td>31401</td>\n",
       "      <td>16590</td>\n",
       "      <td>0</td>\n",
       "      <td>31.484</td>\n",
       "      <td>34.444444</td>\n",
       "      <td>28.888889</td>\n",
       "      <td>31.666667</td>\n",
       "      <td>0</td>\n",
       "      <td>0.0</td>\n",
       "      <td>45</td>\n",
       "      <td>...</td>\n",
       "      <td>NaN</td>\n",
       "      <td>NaN</td>\n",
       "      <td>NaN</td>\n",
       "      <td>11.5</td>\n",
       "      <td>0.0</td>\n",
       "      <td>NaN</td>\n",
       "      <td>NaN</td>\n",
       "      <td>NaN</td>\n",
       "      <td>NaN</td>\n",
       "      <td>NaN</td>\n",
       "    </tr>\n",
       "    <tr>\n",
       "      <th>528</th>\n",
       "      <td>31401</td>\n",
       "      <td>16591</td>\n",
       "      <td>T</td>\n",
       "      <td>27.780</td>\n",
       "      <td>35.555556</td>\n",
       "      <td>28.333333</td>\n",
       "      <td>32.222222</td>\n",
       "      <td>0</td>\n",
       "      <td>1000.0</td>\n",
       "      <td>45</td>\n",
       "      <td>...</td>\n",
       "      <td>NaN</td>\n",
       "      <td>NaN</td>\n",
       "      <td>NaN</td>\n",
       "      <td>14.5</td>\n",
       "      <td>1000.0</td>\n",
       "      <td>NaN</td>\n",
       "      <td>NaN</td>\n",
       "      <td>NaN</td>\n",
       "      <td>NaN</td>\n",
       "      <td>NaN</td>\n",
       "    </tr>\n",
       "    <tr>\n",
       "      <th>529</th>\n",
       "      <td>31401</td>\n",
       "      <td>16592</td>\n",
       "      <td>2.54</td>\n",
       "      <td>33.336</td>\n",
       "      <td>30.555556</td>\n",
       "      <td>25.555556</td>\n",
       "      <td>28.333333</td>\n",
       "      <td>0</td>\n",
       "      <td>1000.0</td>\n",
       "      <td>45</td>\n",
       "      <td>...</td>\n",
       "      <td>NaN</td>\n",
       "      <td>NaN</td>\n",
       "      <td>NaN</td>\n",
       "      <td>5.5</td>\n",
       "      <td>1000.0</td>\n",
       "      <td>NaN</td>\n",
       "      <td>NaN</td>\n",
       "      <td>NaN</td>\n",
       "      <td>NaN</td>\n",
       "      <td>NaN</td>\n",
       "    </tr>\n",
       "    <tr>\n",
       "      <th>530</th>\n",
       "      <td>31401</td>\n",
       "      <td>16593</td>\n",
       "      <td>0</td>\n",
       "      <td>29.632</td>\n",
       "      <td>32.777778</td>\n",
       "      <td>25.555556</td>\n",
       "      <td>29.444444</td>\n",
       "      <td>0</td>\n",
       "      <td>0.0</td>\n",
       "      <td>45</td>\n",
       "      <td>...</td>\n",
       "      <td>NaN</td>\n",
       "      <td>NaN</td>\n",
       "      <td>NaN</td>\n",
       "      <td>9.0</td>\n",
       "      <td>0.0</td>\n",
       "      <td>NaN</td>\n",
       "      <td>NaN</td>\n",
       "      <td>NaN</td>\n",
       "      <td>NaN</td>\n",
       "      <td>NaN</td>\n",
       "    </tr>\n",
       "    <tr>\n",
       "      <th>531</th>\n",
       "      <td>31401</td>\n",
       "      <td>16594</td>\n",
       "      <td>0</td>\n",
       "      <td>25.928</td>\n",
       "      <td>35.555556</td>\n",
       "      <td>26.111111</td>\n",
       "      <td>31.111111</td>\n",
       "      <td>0</td>\n",
       "      <td>0.0</td>\n",
       "      <td>45</td>\n",
       "      <td>...</td>\n",
       "      <td>NaN</td>\n",
       "      <td>NaN</td>\n",
       "      <td>NaN</td>\n",
       "      <td>11.0</td>\n",
       "      <td>0.0</td>\n",
       "      <td>NaN</td>\n",
       "      <td>NaN</td>\n",
       "      <td>NaN</td>\n",
       "      <td>NaN</td>\n",
       "      <td>NaN</td>\n",
       "    </tr>\n",
       "  </tbody>\n",
       "</table>\n",
       "<p>532 rows × 31 columns</p>\n",
       "</div>"
      ],
      "text/plain": [
       "       STA   Date  Precip  WindGustSpd    MaxTemp    MinTemp   MeanTemp  \\\n",
       "0    20602  16469   11.43       29.632  27.222222  22.222222  25.000000   \n",
       "1    20602  16470    12.7       59.264  27.777778  22.777778  25.555556   \n",
       "2    20602  16471   4.064       50.004  27.777778  22.777778  25.555556   \n",
       "3    20602  16472  22.606       40.744  26.666667  23.888889  25.555556   \n",
       "4    20602  16473  73.914       51.856  26.111111  23.888889  25.000000   \n",
       "..     ...    ...     ...          ...        ...        ...        ...   \n",
       "527  31401  16590       0       31.484  34.444444  28.888889  31.666667   \n",
       "528  31401  16591       T       27.780  35.555556  28.333333  32.222222   \n",
       "529  31401  16592    2.54       33.336  30.555556  25.555556  28.333333   \n",
       "530  31401  16593       0       29.632  32.777778  25.555556  29.444444   \n",
       "531  31401  16594       0       25.928  35.555556  26.111111  31.111111   \n",
       "\n",
       "     Snowfall  PoorWeather  YR  ...  FB  FTI ITH   PGT  TSHDSBRSGF  SD3  RHX  \\\n",
       "0           0          NaN  45  ... NaN  NaN NaN  10.2         NaN  NaN  NaN   \n",
       "1           0          NaN  45  ... NaN  NaN NaN  10.2         NaN  NaN  NaN   \n",
       "2           0          NaN  45  ... NaN  NaN NaN   1.1         NaN  NaN  NaN   \n",
       "3           0          NaN  45  ... NaN  NaN NaN  10.4         NaN  NaN  NaN   \n",
       "4           0          NaN  45  ... NaN  NaN NaN  11.6         NaN  NaN  NaN   \n",
       "..        ...          ...  ..  ...  ..  ...  ..   ...         ...  ...  ...   \n",
       "527         0          0.0  45  ... NaN  NaN NaN  11.5         0.0  NaN  NaN   \n",
       "528         0       1000.0  45  ... NaN  NaN NaN  14.5      1000.0  NaN  NaN   \n",
       "529         0       1000.0  45  ... NaN  NaN NaN   5.5      1000.0  NaN  NaN   \n",
       "530         0          0.0  45  ... NaN  NaN NaN   9.0         0.0  NaN  NaN   \n",
       "531         0          0.0  45  ... NaN  NaN NaN  11.0         0.0  NaN  NaN   \n",
       "\n",
       "     RHN  RVG  WTE  \n",
       "0    NaN  NaN  NaN  \n",
       "1    NaN  NaN  NaN  \n",
       "2    NaN  NaN  NaN  \n",
       "3    NaN  NaN  NaN  \n",
       "4    NaN  NaN  NaN  \n",
       "..   ...  ...  ...  \n",
       "527  NaN  NaN  NaN  \n",
       "528  NaN  NaN  NaN  \n",
       "529  NaN  NaN  NaN  \n",
       "530  NaN  NaN  NaN  \n",
       "531  NaN  NaN  NaN  \n",
       "\n",
       "[532 rows x 31 columns]"
      ]
     },
     "execution_count": 110,
     "metadata": {},
     "output_type": "execute_result"
    }
   ],
   "source": [
    "weather_df = pd.read_csv(\"Weather.csv\")\n",
    "weather_df"
   ]
  },
  {
   "cell_type": "code",
   "execution_count": 114,
   "id": "invalid-proxy",
   "metadata": {},
   "outputs": [
    {
     "data": {
      "text/plain": [
       "(23.426495556995768,\n",
       " array([1.37077102]),\n",
       " 0.25918962299510984,\n",
       " 0.004148494717090319)"
      ]
     },
     "execution_count": 114,
     "metadata": {},
     "output_type": "execute_result"
    },
    {
     "data": {
      "image/png": "[encoded data removed]",
      "text/plain": [
       "<Figure size 864x2520 with 6 Axes>"
      ]
     },
     "metadata": {
      "needs_background": "light"
     },
     "output_type": "display_data"
    }
   ],
   "source": [
    "def do_all(x,y):\n",
    "    lr = LinearRegression()\n",
    "    x_train, x_test, y_train, y_test = TTS(x,y,test_size=0.30, random_state=42)\n",
    "    lr.fit(x_train,y_train)\n",
    "    b1 = lr.coef_[0][0]\n",
    "    b0     = np.mean(y)-np.mean(x)*b1\n",
    "#     Preddict\n",
    "    y_pred = lr.predict(x_test)\n",
    "#    Plotting \n",
    "    _,ax = plt.subplots(6,1,figsize=(12,35))\n",
    "    ax[0].scatter(x_test,y_test,color=\"black\")\n",
    "    ax[0].plot(x_test,y_pred,color=\"red\",linewidth=5)\n",
    "    ax[0].set_xlabel(\"X(test)\")\n",
    "    ax[0].set_ylabel(\"Y(test)\")\n",
    "    ax[0].set_title(\"Linear regression\")\n",
    "#   Plotting(Actual / predicted)\n",
    "    xs = np.array(range(x_test.shape[0]))\n",
    "    take = 100\n",
    "    ax[1].bar(x=xs[:take],height = y_test[:,0][:take],color=\"black\",label=\"Actual\")\n",
    "    ax[1].bar(x=xs[:take],height = y_pred[:,0][:take],color=\"red\",label=\"Predicted\")\n",
    "    ax[1].set_xticks([])\n",
    "    ax[1].set_title(\"Model evaluation\")\n",
    "    ax[1].legend(bbox_to_anchor=(1.05, 1))\n",
    "#     ax[1].legend()\n",
    "#   Plotting (Residuals)\n",
    "    residuals = y_test[:,0]-y_pred[:,0] \n",
    "    ax[2].scatter(x_test,residuals,color=\"black\")\n",
    "    ax[2].set_title(\"Rediduals\")\n",
    "    ax[2].hlines(np.zeros(50),np.min(x_test),np.max(x_test),color=\"red\",linewidth=4)\n",
    "#   Linear regression\n",
    "    ax[3].scatter(x,y,color=\"black\")\n",
    "    ax[3].plot(x,b0 + b1*x,color=\"red\",linewidth=5)\n",
    "#     \n",
    "    DV         = np.log10(y_train)\n",
    "    lr.fit(x_train,DV)\n",
    "    _b1        = lr.coef_[0][0]\n",
    "#     _b0        = np.mean(DV)-np.mean(x_train)*b1\n",
    "    _b0        = lr.intercept_\n",
    "    _y_test    =  np.log10(y_test)\n",
    "    _y_pred    =  np.power(10,_b0 + _b1*x_test)\n",
    "#     _y_pred    = lr.predict(x_test)\n",
    "    _residuals = np.log10(y_test) - _y_pred\n",
    "#     ax[4].scatter(x_test,_y_test,color=\"black\")\n",
    "    ax[4].scatter(x_test,y_test,color=\"black\")\n",
    "#     ax[4].plot(x_test,_y_pred,color=\"red\",linewidth=5)\n",
    "    ax[4].plot(x_test,_y_pred,color=\"red\",linewidth=5)\n",
    "    ax[4].set_xlabel(\"X(test)\")\n",
    "    ax[4].set_ylabel(\"Log10(y)\")\n",
    "    ax[4].set_title(\"Linear regression\")\n",
    "#     \n",
    "    ax[5].scatter(x_test,_residuals,color=\"black\")\n",
    "    ax[5].hlines(np.zeros(50),np.min(x_test),np.max(x_test),color=\"red\",linewidth=4)\n",
    "    return b0,_b0,b1,_b1\n",
    "\n",
    "    \n",
    "x = weather_df['MinTemp'].to_numpy().reshape(-1,1)\n",
    "y = weather_df['MaxTemp'].to_numpy().reshape(-1,1)\n",
    "do_all(x,y)"
   ]
  },
  {
   "cell_type": "markdown",
   "id": "unlike-poetry",
   "metadata": {},
   "source": [
    "# Logistic Regression"
   ]
  },
  {
   "cell_type": "code",
   "execution_count": 170,
   "id": "breeding-framing",
   "metadata": {},
   "outputs": [],
   "source": [
    "default_credits     = pd.read_csv(\"data/DefaultCreditCard.csv\") \n",
    "categorical_columns = ['SEX','EDUCATION','MARRIAGE','ID','default_payment']\n",
    "y                   = default_credits['default_payment']\n",
    "X                   = default_credits.drop(columns=categorical_columns)\n",
    "N                   = X.shape[0]\n",
    "_X                  = STDC.fit_transform(X) \n",
    "columns             = X.columns\n",
    "# pays_cols           = list(map(lambda x:'PAY_{}'.format(x),range(7)) )\n",
    "pays_cols           = ['PAY_0',*list(map(lambda x:'PAY_{}'.format(x),range(2,7)))]\n",
    "_X                  = X[pays_cols].values\n",
    "# _X.shape\n",
    "# X\n",
    "# pays_cols\n",
    "# N\n",
    "# X"
   ]
  },
  {
   "cell_type": "code",
   "execution_count": 53,
   "id": "purple-guitar",
   "metadata": {},
   "outputs": [
    {
     "data": {
      "image/png": "[encoded data removed]",
      "text/plain": [
       "<Figure size 432x432 with 1 Axes>"
      ]
     },
     "metadata": {
      "needs_background": "light"
     },
     "output_type": "display_data"
    }
   ],
   "source": [
    "def scatterPlot(i,j):\n",
    "    _,ax = plt.subplots(figsize=(6,6))\n",
    "    x = X[columns[i]]\n",
    "    y = X[columns[j]]\n",
    "    ax.scatter(x,y)\n",
    "    ax.set_xlabel(columns[i])\n",
    "    ax.set_ylabel(columns[j])\n",
    "scatterPlot(1,18)\n",
    "# X[columns[0]]\n",
    "# X.plot()"
   ]
  },
  {
   "cell_type": "code",
   "execution_count": 65,
   "id": "critical-peter",
   "metadata": {},
   "outputs": [
    {
     "data": {
      "text/plain": [
       "array([[-0.07216779,  0.08800886,  0.64853055,  0.10051741,  0.08622911,\n",
       "         0.02680795,  0.03828619,  0.0104815 , -0.40892257,  0.1661922 ,\n",
       "         0.08949039, -0.01221649,  0.04475857,  0.02267531, -0.22467186,\n",
       "        -0.22176385, -0.04997222, -0.06475763, -0.05192551, -0.0374541 ]])"
      ]
     },
     "execution_count": 65,
     "metadata": {},
     "output_type": "execute_result"
    }
   ],
   "source": [
    "clf = LogisticRegression(random_state=0).fit(_X, y)\n",
    "clf.coef_"
   ]
  },
  {
   "cell_type": "markdown",
   "id": "acting-concentration",
   "metadata": {},
   "source": [
    "# Logistic Regression from Scratch"
   ]
  },
  {
   "cell_type": "code",
   "execution_count": 167,
   "id": "interstate-incentive",
   "metadata": {},
   "outputs": [
    {
     "data": {
      "text/plain": [
       "[<matplotlib.lines.Line2D at 0x7f8d943a7700>]"
      ]
     },
     "execution_count": 167,
     "metadata": {},
     "output_type": "execute_result"
    },
    {
     "data": {
      "image/png": "[encoded data removed]",
      "text/plain": [
       "<Figure size 360x360 with 1 Axes>"
      ]
     },
     "metadata": {
      "needs_background": "light"
     },
     "output_type": "display_data"
    }
   ],
   "source": [
    "def sigmoid(z):\n",
    "    return 1/(1+np.exp(-z))\n",
    "x = np.linspace(-10,10,1000)\n",
    "y = sigmoid(np.linspace(-10,10,1000))\n",
    "_,ax=plt.subplots(figsize=(5,5))\n",
    "ax.plot(x,y,color=\"red\")"
   ]
  },
  {
   "cell_type": "code",
   "execution_count": 213,
   "id": "combined-dylan",
   "metadata": {},
   "outputs": [
    {
     "data": {
      "text/plain": [
       "[1,\n",
       " 1,\n",
       " 0,\n",
       " 0,\n",
       " 0,\n",
       " 0,\n",
       " 0,\n",
       " 0,\n",
       " 0,\n",
       " 0,\n",
       " 0,\n",
       " 0,\n",
       " 0,\n",
       " 1,\n",
       " 0,\n",
       " 1,\n",
       " 0,\n",
       " 0,\n",
       " 0,\n",
       " 0,\n",
       " 0,\n",
       " 0,\n",
       " 1,\n",
       " 0,\n",
       " 0,\n",
       " 0,\n",
       " 0,\n",
       " 0,\n",
       " 0,\n",
       " 0,\n",
       " 0,\n",
       " 1,\n",
       " 0,\n",
       " 0,\n",
       " 0,\n",
       " 0,\n",
       " 0,\n",
       " 0,\n",
       " 0,\n",
       " 0,\n",
       " 0,\n",
       " 0,\n",
       " 0,\n",
       " 0,\n",
       " 0,\n",
       " 0,\n",
       " 0,\n",
       " 0,\n",
       " 0,\n",
       " 0,\n",
       " 1,\n",
       " 0,\n",
       " 0,\n",
       " 1,\n",
       " 1,\n",
       " 0,\n",
       " 0,\n",
       " 0,\n",
       " 1,\n",
       " 0,\n",
       " 0,\n",
       " 0,\n",
       " 1,\n",
       " 0,\n",
       " 0,\n",
       " 0,\n",
       " 1,\n",
       " 0,\n",
       " 0,\n",
       " 1,\n",
       " 0,\n",
       " 1,\n",
       " 0,\n",
       " 0,\n",
       " 0,\n",
       " 0,\n",
       " 0,\n",
       " 0,\n",
       " 0,\n",
       " 0,\n",
       " 0,\n",
       " 0,\n",
       " 0,\n",
       " 0,\n",
       " 0,\n",
       " 0,\n",
       " 0,\n",
       " 0,\n",
       " 0,\n",
       " 1,\n",
       " 1,\n",
       " 0,\n",
       " 0,\n",
       " 0,\n",
       " 0,\n",
       " 0,\n",
       " 0,\n",
       " 0,\n",
       " 0,\n",
       " 0,\n",
       " 0,\n",
       " 0,\n",
       " 0,\n",
       " 0,\n",
       " 1,\n",
       " 0,\n",
       " 0,\n",
       " 0,\n",
       " 0,\n",
       " 0,\n",
       " 0,\n",
       " 0,\n",
       " 1,\n",
       " 0,\n",
       " 0,\n",
       " 1,\n",
       " 0,\n",
       " 1,\n",
       " 0,\n",
       " 0,\n",
       " 1,\n",
       " 0,\n",
       " 0,\n",
       " 1,\n",
       " 0,\n",
       " 0,\n",
       " 0,\n",
       " 0,\n",
       " 0,\n",
       " 1,\n",
       " 0,\n",
       " 0,\n",
       " 0,\n",
       " 0,\n",
       " 0,\n",
       " 0,\n",
       " 0,\n",
       " 0,\n",
       " 0,\n",
       " 0,\n",
       " 0,\n",
       " 0,\n",
       " 1,\n",
       " 0,\n",
       " 0,\n",
       " 0,\n",
       " 0,\n",
       " 1,\n",
       " 1,\n",
       " 0,\n",
       " 0,\n",
       " 0,\n",
       " 0,\n",
       " 0,\n",
       " 0,\n",
       " 0,\n",
       " 0,\n",
       " 0,\n",
       " 1,\n",
       " 1,\n",
       " 1,\n",
       " 0,\n",
       " 0,\n",
       " 0,\n",
       " 0,\n",
       " 0,\n",
       " 0,\n",
       " 1,\n",
       " 0,\n",
       " 0,\n",
       " 0,\n",
       " 0,\n",
       " 0,\n",
       " 0,\n",
       " 0,\n",
       " 1,\n",
       " 0,\n",
       " 1,\n",
       " 0,\n",
       " 0,\n",
       " 0,\n",
       " 0,\n",
       " 0,\n",
       " 0,\n",
       " 0,\n",
       " 1,\n",
       " 0,\n",
       " 1,\n",
       " 0,\n",
       " 1,\n",
       " 0,\n",
       " 1,\n",
       " 0,\n",
       " 0,\n",
       " 0,\n",
       " 1,\n",
       " 0,\n",
       " 0,\n",
       " 0,\n",
       " 1,\n",
       " 0,\n",
       " 0,\n",
       " 0,\n",
       " 0,\n",
       " 0,\n",
       " 0,\n",
       " 0,\n",
       " 0,\n",
       " 0,\n",
       " 0,\n",
       " 0,\n",
       " 0,\n",
       " 0,\n",
       " 0,\n",
       " 1,\n",
       " 0,\n",
       " 0,\n",
       " 1,\n",
       " 0,\n",
       " 0,\n",
       " 1,\n",
       " 0,\n",
       " 0,\n",
       " 0,\n",
       " 1,\n",
       " 0,\n",
       " 0,\n",
       " 0,\n",
       " 1,\n",
       " 1,\n",
       " 0,\n",
       " 1,\n",
       " 0,\n",
       " 1,\n",
       " 0,\n",
       " 0,\n",
       " 0,\n",
       " 0,\n",
       " 0,\n",
       " 0,\n",
       " 1,\n",
       " 0,\n",
       " 0,\n",
       " 0,\n",
       " 0,\n",
       " 0,\n",
       " 0,\n",
       " 0,\n",
       " 0,\n",
       " 0,\n",
       " 1,\n",
       " 0,\n",
       " 0,\n",
       " 0,\n",
       " 0,\n",
       " 0,\n",
       " 0,\n",
       " 0,\n",
       " 0,\n",
       " 1,\n",
       " 0,\n",
       " 0,\n",
       " 0,\n",
       " 0,\n",
       " 0,\n",
       " 0,\n",
       " 0,\n",
       " 0,\n",
       " 0,\n",
       " 1,\n",
       " 0,\n",
       " 1,\n",
       " 0,\n",
       " 0,\n",
       " 0,\n",
       " 0,\n",
       " 0,\n",
       " 0,\n",
       " 0,\n",
       " 0,\n",
       " 0,\n",
       " 0,\n",
       " 0,\n",
       " 0,\n",
       " 0,\n",
       " 0,\n",
       " 1,\n",
       " 0,\n",
       " 1,\n",
       " 0,\n",
       " 0,\n",
       " 0,\n",
       " 1,\n",
       " 0,\n",
       " 0,\n",
       " 0,\n",
       " 0,\n",
       " 0,\n",
       " 0,\n",
       " 0,\n",
       " 0,\n",
       " 0,\n",
       " 0,\n",
       " 0,\n",
       " 0,\n",
       " 0,\n",
       " 0,\n",
       " 0,\n",
       " 1,\n",
       " 0,\n",
       " 0,\n",
       " 0,\n",
       " 0,\n",
       " 1,\n",
       " 0,\n",
       " 0,\n",
       " 0,\n",
       " 0,\n",
       " 1,\n",
       " 0,\n",
       " 1,\n",
       " 0,\n",
       " 0,\n",
       " 0,\n",
       " 0,\n",
       " 0,\n",
       " 1,\n",
       " 1,\n",
       " 0,\n",
       " 1,\n",
       " 0,\n",
       " 0,\n",
       " 1,\n",
       " 0,\n",
       " 0,\n",
       " 0,\n",
       " 0,\n",
       " 0,\n",
       " 0,\n",
       " 0,\n",
       " 0,\n",
       " 0,\n",
       " 1,\n",
       " 0,\n",
       " 0,\n",
       " 0,\n",
       " 0,\n",
       " 0,\n",
       " 0,\n",
       " 0,\n",
       " 0,\n",
       " 0,\n",
       " 0,\n",
       " 0,\n",
       " 1,\n",
       " 0,\n",
       " 0,\n",
       " 0,\n",
       " 0,\n",
       " 0,\n",
       " 1,\n",
       " 0,\n",
       " 1,\n",
       " 0,\n",
       " 0,\n",
       " 0,\n",
       " 0,\n",
       " 1,\n",
       " 0,\n",
       " 1,\n",
       " 1,\n",
       " 0,\n",
       " 0,\n",
       " 0,\n",
       " 0,\n",
       " 0,\n",
       " 1,\n",
       " 0,\n",
       " 0,\n",
       " 0,\n",
       " 0,\n",
       " 1,\n",
       " 0,\n",
       " 0,\n",
       " 0,\n",
       " 0,\n",
       " 0,\n",
       " 0,\n",
       " 0,\n",
       " 0,\n",
       " 0,\n",
       " 0,\n",
       " 0,\n",
       " 0,\n",
       " 0,\n",
       " 0,\n",
       " 0,\n",
       " 0,\n",
       " 0,\n",
       " 1,\n",
       " 0,\n",
       " 0,\n",
       " 0,\n",
       " 0,\n",
       " 1,\n",
       " 0,\n",
       " 0,\n",
       " 1,\n",
       " 0,\n",
       " 0,\n",
       " 1,\n",
       " 0,\n",
       " 0,\n",
       " 1,\n",
       " 0,\n",
       " 0,\n",
       " 0,\n",
       " 0,\n",
       " 0,\n",
       " 0,\n",
       " 1,\n",
       " 0,\n",
       " 0,\n",
       " 1,\n",
       " 0,\n",
       " 0,\n",
       " 1,\n",
       " 0,\n",
       " 0,\n",
       " 0,\n",
       " 0,\n",
       " 0,\n",
       " 0,\n",
       " 0,\n",
       " 0,\n",
       " 1,\n",
       " 0,\n",
       " 0,\n",
       " 0,\n",
       " 0,\n",
       " 0,\n",
       " 0,\n",
       " 0,\n",
       " 0,\n",
       " 0,\n",
       " 0,\n",
       " 0,\n",
       " 0,\n",
       " 0,\n",
       " 0,\n",
       " 0,\n",
       " 1,\n",
       " 0,\n",
       " 0,\n",
       " 0,\n",
       " 0,\n",
       " 1,\n",
       " 0,\n",
       " 0,\n",
       " 0,\n",
       " 0,\n",
       " 0,\n",
       " 0,\n",
       " 0,\n",
       " 0,\n",
       " 0,\n",
       " 0,\n",
       " 0,\n",
       " 0,\n",
       " 0,\n",
       " 0,\n",
       " 0,\n",
       " 0,\n",
       " 1,\n",
       " 0,\n",
       " 0,\n",
       " 0,\n",
       " 0,\n",
       " 1,\n",
       " 0,\n",
       " 0,\n",
       " 0,\n",
       " 0,\n",
       " 1,\n",
       " 0,\n",
       " 0,\n",
       " 0,\n",
       " 0,\n",
       " 0,\n",
       " 0,\n",
       " 0,\n",
       " 1,\n",
       " 0,\n",
       " 0,\n",
       " 0,\n",
       " 0,\n",
       " 0,\n",
       " 0,\n",
       " 0,\n",
       " 0,\n",
       " 0,\n",
       " 1,\n",
       " 0,\n",
       " 0,\n",
       " 0,\n",
       " 0,\n",
       " 0,\n",
       " 0,\n",
       " 0,\n",
       " 0,\n",
       " 0,\n",
       " 0,\n",
       " 0,\n",
       " 1,\n",
       " 0,\n",
       " 0,\n",
       " 0,\n",
       " 0,\n",
       " 1,\n",
       " 0,\n",
       " 0,\n",
       " 0,\n",
       " 0,\n",
       " 0,\n",
       " 0,\n",
       " 0,\n",
       " 1,\n",
       " 1,\n",
       " 0,\n",
       " 0,\n",
       " 0,\n",
       " 0,\n",
       " 0,\n",
       " 1,\n",
       " 0,\n",
       " 0,\n",
       " 0,\n",
       " 0,\n",
       " 0,\n",
       " 1,\n",
       " 0,\n",
       " 0,\n",
       " 1,\n",
       " 0,\n",
       " 0,\n",
       " 0,\n",
       " 0,\n",
       " 0,\n",
       " 0,\n",
       " 0,\n",
       " 0,\n",
       " 0,\n",
       " 0,\n",
       " 0,\n",
       " 0,\n",
       " 0,\n",
       " 0,\n",
       " 0,\n",
       " 0,\n",
       " 0,\n",
       " 0,\n",
       " 0,\n",
       " 0,\n",
       " 0,\n",
       " 1,\n",
       " 0,\n",
       " 0,\n",
       " 0,\n",
       " 0,\n",
       " 0,\n",
       " 0,\n",
       " 0,\n",
       " 0,\n",
       " 0,\n",
       " 0,\n",
       " 1,\n",
       " 0,\n",
       " 0,\n",
       " 0,\n",
       " 0,\n",
       " 0,\n",
       " 0,\n",
       " 0,\n",
       " 0,\n",
       " 0,\n",
       " 0,\n",
       " 0,\n",
       " 0,\n",
       " 0,\n",
       " 0,\n",
       " 0,\n",
       " 0,\n",
       " 0,\n",
       " 0,\n",
       " 0,\n",
       " 0,\n",
       " 0,\n",
       " 0,\n",
       " 1,\n",
       " 0,\n",
       " 0,\n",
       " 0,\n",
       " 0,\n",
       " 1,\n",
       " 0,\n",
       " 1,\n",
       " 0,\n",
       " 0,\n",
       " 0,\n",
       " 0,\n",
       " 0,\n",
       " 0,\n",
       " 0,\n",
       " 1,\n",
       " 1,\n",
       " 0,\n",
       " 0,\n",
       " 0,\n",
       " 0,\n",
       " 0,\n",
       " 0,\n",
       " 0,\n",
       " 0,\n",
       " 0,\n",
       " 0,\n",
       " 0,\n",
       " 0,\n",
       " 0,\n",
       " 0,\n",
       " 0,\n",
       " 0,\n",
       " 0,\n",
       " 0,\n",
       " 0,\n",
       " 0,\n",
       " 0,\n",
       " 0,\n",
       " 0,\n",
       " 0,\n",
       " 0,\n",
       " 0,\n",
       " 0,\n",
       " 0,\n",
       " 0,\n",
       " 0,\n",
       " 0,\n",
       " 1,\n",
       " 0,\n",
       " 1,\n",
       " 1,\n",
       " 0,\n",
       " 0,\n",
       " 0,\n",
       " 0,\n",
       " 0,\n",
       " 0,\n",
       " 0,\n",
       " 0,\n",
       " 0,\n",
       " 1,\n",
       " 0,\n",
       " 0,\n",
       " 0,\n",
       " 0,\n",
       " 0,\n",
       " 0,\n",
       " 0,\n",
       " 0,\n",
       " 1,\n",
       " 1,\n",
       " 0,\n",
       " 0,\n",
       " 1,\n",
       " 1,\n",
       " 0,\n",
       " 1,\n",
       " 1,\n",
       " 0,\n",
       " 0,\n",
       " 0,\n",
       " 0,\n",
       " 0,\n",
       " 0,\n",
       " 0,\n",
       " 0,\n",
       " 0,\n",
       " 0,\n",
       " 0,\n",
       " 0,\n",
       " 0,\n",
       " 0,\n",
       " 1,\n",
       " 1,\n",
       " 0,\n",
       " 0,\n",
       " 0,\n",
       " 0,\n",
       " 1,\n",
       " 0,\n",
       " 0,\n",
       " 0,\n",
       " 0,\n",
       " 0,\n",
       " 1,\n",
       " 1,\n",
       " 0,\n",
       " 1,\n",
       " 1,\n",
       " 0,\n",
       " 0,\n",
       " 0,\n",
       " 0,\n",
       " 1,\n",
       " 0,\n",
       " 0,\n",
       " 0,\n",
       " 0,\n",
       " 0,\n",
       " 0,\n",
       " 0,\n",
       " 0,\n",
       " 0,\n",
       " 0,\n",
       " 0,\n",
       " 0,\n",
       " 0,\n",
       " 0,\n",
       " 0,\n",
       " 0,\n",
       " 1,\n",
       " 0,\n",
       " 0,\n",
       " 1,\n",
       " 0,\n",
       " 0,\n",
       " 0,\n",
       " 0,\n",
       " 0,\n",
       " 0,\n",
       " 1,\n",
       " 0,\n",
       " 0,\n",
       " 0,\n",
       " 0,\n",
       " 0,\n",
       " 0,\n",
       " 0,\n",
       " 0,\n",
       " 0,\n",
       " 1,\n",
       " 0,\n",
       " 1,\n",
       " 0,\n",
       " 0,\n",
       " 0,\n",
       " 0,\n",
       " 0,\n",
       " 1,\n",
       " 0,\n",
       " 0,\n",
       " 1,\n",
       " 0,\n",
       " 0,\n",
       " 1,\n",
       " 0,\n",
       " 0,\n",
       " 0,\n",
       " 0,\n",
       " 0,\n",
       " 0,\n",
       " 0,\n",
       " 0,\n",
       " 0,\n",
       " 0,\n",
       " 1,\n",
       " 1,\n",
       " 0,\n",
       " 0,\n",
       " 1,\n",
       " 0,\n",
       " 0,\n",
       " 0,\n",
       " 1,\n",
       " 0,\n",
       " 0,\n",
       " 0,\n",
       " 0,\n",
       " 0,\n",
       " 0,\n",
       " 0,\n",
       " 1,\n",
       " 0,\n",
       " 0,\n",
       " 0,\n",
       " 0,\n",
       " 0,\n",
       " 0,\n",
       " 0,\n",
       " 1,\n",
       " 0,\n",
       " 0,\n",
       " 1,\n",
       " 0,\n",
       " 0,\n",
       " 0,\n",
       " 0,\n",
       " 0,\n",
       " 0,\n",
       " 0,\n",
       " 0,\n",
       " 0,\n",
       " 0,\n",
       " 0,\n",
       " 0,\n",
       " 1,\n",
       " 0,\n",
       " 1,\n",
       " 0,\n",
       " 0,\n",
       " 0,\n",
       " 0,\n",
       " 1,\n",
       " 0,\n",
       " 0,\n",
       " 0,\n",
       " 0,\n",
       " 1,\n",
       " 0,\n",
       " 0,\n",
       " 0,\n",
       " 0,\n",
       " 1,\n",
       " 0,\n",
       " 0,\n",
       " 0,\n",
       " 0,\n",
       " 1,\n",
       " 0,\n",
       " 0,\n",
       " 0,\n",
       " 1,\n",
       " 0,\n",
       " 0,\n",
       " 0,\n",
       " 0,\n",
       " 0,\n",
       " 0,\n",
       " 1,\n",
       " 1,\n",
       " 1,\n",
       " 0,\n",
       " 1,\n",
       " 0,\n",
       " 0,\n",
       " 0,\n",
       " 0,\n",
       " 0,\n",
       " 1,\n",
       " 0,\n",
       " 0,\n",
       " 0,\n",
       " 0,\n",
       " 1,\n",
       " 0,\n",
       " 0,\n",
       " 0,\n",
       " 0,\n",
       " 0,\n",
       " 0,\n",
       " 0,\n",
       " 0,\n",
       " 0,\n",
       " 0,\n",
       " 0,\n",
       " 0,\n",
       " 0,\n",
       " 0,\n",
       " 0,\n",
       " 0,\n",
       " 1,\n",
       " 0,\n",
       " 0,\n",
       " 0,\n",
       " 0,\n",
       " 0,\n",
       " 0,\n",
       " 0,\n",
       " 0,\n",
       " 0,\n",
       " 0,\n",
       " 0,\n",
       " 1,\n",
       " 0,\n",
       " 0,\n",
       " 0,\n",
       " 0,\n",
       " 1,\n",
       " 1,\n",
       " 0,\n",
       " 0,\n",
       " 0,\n",
       " 0,\n",
       " 0,\n",
       " 0,\n",
       " 1,\n",
       " 0,\n",
       " 1,\n",
       " 0,\n",
       " 0,\n",
       " 0,\n",
       " 1,\n",
       " 0,\n",
       " 0,\n",
       " 0,\n",
       " 0,\n",
       " 0,\n",
       " 0,\n",
       " 0,\n",
       " 0,\n",
       " 0,\n",
       " 0,\n",
       " 0,\n",
       " 0,\n",
       " 0,\n",
       " 0,\n",
       " 0,\n",
       " 0,\n",
       " 0,\n",
       " 0,\n",
       " 0,\n",
       " 0,\n",
       " 0,\n",
       " 1,\n",
       " 1,\n",
       " 0,\n",
       " 0,\n",
       " 0,\n",
       " 1,\n",
       " 1,\n",
       " 0,\n",
       " 0,\n",
       " 0,\n",
       " 0,\n",
       " 1,\n",
       " 0,\n",
       " 0,\n",
       " 0,\n",
       " 0,\n",
       " 0,\n",
       " 1,\n",
       " 0,\n",
       " 0,\n",
       " 0,\n",
       " 0,\n",
       " 0,\n",
       " 0,\n",
       " 0,\n",
       " 0,\n",
       " 0,\n",
       " 0,\n",
       " 1,\n",
       " 0,\n",
       " 0,\n",
       " 0,\n",
       " 0,\n",
       " 0,\n",
       " 0,\n",
       " 0,\n",
       " 0,\n",
       " 0,\n",
       " 0,\n",
       " 0,\n",
       " 1,\n",
       " 0,\n",
       " 0,\n",
       " 0,\n",
       " 1,\n",
       " 0,\n",
       " 0,\n",
       " 0,\n",
       " 0,\n",
       " 1,\n",
       " 0,\n",
       " 0,\n",
       " 0,\n",
       " 0,\n",
       " 0,\n",
       " 0,\n",
       " 1,\n",
       " 1,\n",
       " 0,\n",
       " 1,\n",
       " 0,\n",
       " 0,\n",
       " 0,\n",
       " 0,\n",
       " 0,\n",
       " 0,\n",
       " 0,\n",
       " 1,\n",
       " ...]"
      ]
     },
     "execution_count": 213,
     "metadata": {},
     "output_type": "execute_result"
    }
   ],
   "source": [
    "def crossEntropyLossFn(X,y,w):\n",
    "    z     = np.dot(X,w)\n",
    "    y_hat = sigmoid(z)\n",
    "    pred_0  = y*np.log(y_hat)\n",
    "    pred_1  = (1-y)*np.log(1-y_hat)\n",
    "    return -np.sum(pred_0+pred_1) / X.shape[0]\n",
    "def fit(X,y,**kwargs):\n",
    "    lr     = kwargs.get('lr',0.05)\n",
    "    epochs = kwargs.get('epochs',100)\n",
    "    loss   =[]\n",
    "    w      = np.random.rand(X.shape[1])\n",
    "    N      = X.shape[0]\n",
    "    for i in range(epochs):\n",
    "        z     = np.dot(X,w)\n",
    "        y_hat = sigmoid(z)\n",
    "        w    -= lr * np.dot(X.T,y_hat-y)  / N\n",
    "        loss.append(crossEntropyLossFn(X,y,w))\n",
    "    return w,loss\n",
    "def predict(X,w):\n",
    "    z = np.dot(X,w)\n",
    "    return [1 if i > 0.5 else 0 for i in sigmoid(z)]\n",
    "\n",
    "# X\n",
    "__X = _X[:,0:2]\n",
    "# print(__X.shape,len(__X))\n",
    "_w  = np.random.rand(__X.shape[1])\n",
    "# print(_w.shape)\n",
    "crossEntropyLossFn(__X,y.values,_w)\n",
    "w ,loss = fit(__X,y)\n",
    "predict(__X,w)"
   ]
  }
 ],
 "metadata": {
  "kernelspec": {
   "display_name": "Python 3",
   "language": "python",
   "name": "python3"
  },
  "language_info": {
   "codemirror_mode": {
    "name": "ipython",
    "version": 3
   },
   "file_extension": ".py",
   "mimetype": "text/x-python",
   "name": "python",
   "nbconvert_exporter": "python",
   "pygments_lexer": "ipython3",
   "version": "3.8.5"
  }
 },
 "nbformat": 4,
 "nbformat_minor": 5
}
